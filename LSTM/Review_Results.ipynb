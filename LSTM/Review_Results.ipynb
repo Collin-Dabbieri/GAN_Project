{
 "cells": [
  {
   "cell_type": "markdown",
   "metadata": {},
   "source": [
    "# Here we can load in model results to see if they trained well\n",
    "# We can also generate MIDI files with our trained models"
   ]
  },
  {
   "cell_type": "code",
   "execution_count": 1,
   "metadata": {},
   "outputs": [],
   "source": [
    "import numpy as np\n",
    "from matplotlib import pyplot as plt\n",
    "import pickle\n",
    "import glob"
   ]
  },
  {
   "cell_type": "code",
   "execution_count": null,
   "metadata": {},
   "outputs": [],
   "source": [
    "filenames=glob.glob('./results/*.pkl')\n",
    "\n",
    "results=[]\n",
    "for i in filenames:\n",
    "    fp = open(i, \"rb\")\n",
    "    r = pickle.load(fp)\n",
    "    fp.close()\n",
    "    \n",
    "    results.append(r)\n",
    "    \n",
    "    \n",
    "print(results[0].keys())"
   ]
  },
  {
   "cell_type": "code",
   "execution_count": null,
   "metadata": {},
   "outputs": [],
   "source": [
    "for i in results:\n",
    "    \n",
    "    history=i['history']\n",
    "    \n",
    "    plt.title(i['fname_base'][10:])\n",
    "    epochs=np.arange(len(history['val_categorical_accuracy']))\n",
    "    plt.plot(epochs,history['categorical_accuracy'],label='training')\n",
    "    plt.plot(epochs,history['val_categorical_accuracy'],label='validation')\n",
    "    plt.xlabel('Epochs')\n",
    "    plt.ylabel('Categorical Accuracy')\n",
    "    plt.legend(loc='best')\n",
    "    plt.show()"
   ]
  },
  {
   "cell_type": "code",
   "execution_count": null,
   "metadata": {},
   "outputs": [],
   "source": [
    "for i in results:\n",
    "    \n",
    "    history=i['history']\n",
    "    \n",
    "    plt.title(i['fname_base'][10:])\n",
    "    epochs=np.arange(len(history['val_loss']))\n",
    "    plt.plot(epochs,history['loss'],label='training')\n",
    "    plt.plot(epochs,history['val_loss'],label='validation')\n",
    "    plt.xlabel('Epochs')\n",
    "    plt.ylabel('Categorical Crossentropy')\n",
    "    plt.legend(loc='best')\n",
    "    plt.show()"
   ]
  }
 ],
 "metadata": {
  "kernelspec": {
   "display_name": "Python 3",
   "language": "python",
   "name": "python3"
  },
  "language_info": {
   "codemirror_mode": {
    "name": "ipython",
    "version": 3
   },
   "file_extension": ".py",
   "mimetype": "text/x-python",
   "name": "python",
   "nbconvert_exporter": "python",
   "pygments_lexer": "ipython3",
   "version": "3.7.3"
  }
 },
 "nbformat": 4,
 "nbformat_minor": 4
}
