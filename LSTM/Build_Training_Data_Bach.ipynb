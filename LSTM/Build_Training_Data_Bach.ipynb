{
 "cells": [
  {
   "cell_type": "code",
   "execution_count": 4,
   "metadata": {},
   "outputs": [],
   "source": [
    "import numpy as np\n",
    "from matplotlib import pyplot as plt\n",
    "import tensorflow as tf\n",
    "import keras\n",
    "import pickle\n",
    "from keras.utils import np_utils\n",
    "from tensorflow.keras.layers import InputLayer, Dense, LSTM, Dropout, Activation\n",
    "from tensorflow.keras.models import Sequential\n",
    "\n",
    "from music21 import converter, instrument, note, chord, stream\n",
    "import glob\n",
    "\n",
    "from keras.utils import np_utils\n",
    "\n",
    "FONTSIZE=18\n",
    "plt.rcParams['figure.figsize']=(10,6)\n",
    "plt.rcParams['font.size']=FONTSIZE"
   ]
  },
  {
   "cell_type": "markdown",
   "metadata": {},
   "source": [
    "# Load in MIDI files and convert them to notes"
   ]
  },
  {
   "cell_type": "code",
   "execution_count": null,
   "metadata": {},
   "outputs": [],
   "source": [
    "def read_midi(file):\n",
    "    notes=[]\n",
    "    notes_to_parse = None\n",
    "\n",
    "    #parsing a midi file\n",
    "    midi = converter.parse(file)\n",
    "    #grouping based on different instruments\n",
    "    s2 = instrument.partitionByInstrument(midi)\n",
    "\n",
    "    #Looping over all the instruments\n",
    "    for part in s2.parts:\n",
    "        #select elements of only piano\n",
    "        if 'Piano' in str(part): \n",
    "            notes_to_parse = part.recurse() \n",
    "            #finding whether a particular element is note or a chord\n",
    "            for element in notes_to_parse:\n",
    "                if isinstance(element, note.Note):\n",
    "                    notes.append(str(element.pitch))\n",
    "                elif isinstance(element, chord.Chord):\n",
    "                    notes.append('.'.join(str(n) for n in element.normalOrder))\n",
    "      \n",
    "    return notes\n",
    "\n",
    "filenames=glob.glob('../MIDI_files/Classical_Archives_The_Greats/Bach/*.mid')\n",
    "notes=[]\n",
    "notes_per_song=[]\n",
    "\n",
    "for i in range(len(filenames)):\n",
    "    notes_temp=read_midi(filenames[i])\n",
    "    notes.append(notes_temp)\n",
    "    notes_per_song.append(len(notes_temp))"
   ]
  },
  {
   "cell_type": "code",
   "execution_count": 5,
   "metadata": {
    "scrolled": true
   },
   "outputs": [
    {
     "name": "stdout",
     "output_type": "stream",
     "text": [
      "../MIDI_files/Classical_Archives_The_Greats/Bach/Bwv0540 Toccata and Fugue.mid\n",
      "This song has the desired part and only one part\n",
      "../MIDI_files/Classical_Archives_The_Greats/Bach/Bwv0528 Sonate en trio n4.mid\n",
      "This song has the desired part and only one part\n",
      "../MIDI_files/Classical_Archives_The_Greats/Bach/Bwv0997 Partita for Lute 1mov.mid\n",
      "../MIDI_files/Classical_Archives_The_Greats/Bach/Bwv0997 Partita for Lute 4mov.mid\n",
      "../MIDI_files/Classical_Archives_The_Greats/Bach/Bwv0997 Partita for Lute 3mov.mid\n",
      "../MIDI_files/Classical_Archives_The_Greats/Bach/Bwv0806 English Suite n1 02mov .mid\n",
      "../MIDI_files/Classical_Archives_The_Greats/Bach/Bwv0535 Prelude and Fugue.mid\n",
      "This song has the desired part and only one part\n",
      "../MIDI_files/Classical_Archives_The_Greats/Bach/Bwv0998 Prelude Fugue Allegro for Lute 3mov.mid\n",
      "../MIDI_files/Classical_Archives_The_Greats/Bach/Bwv1014 Harpsicord and Violin Sonata 3mov.mid\n",
      "../MIDI_files/Classical_Archives_The_Greats/Bach/Bwv0594 Vivaldi Concerto Arrangement RV208.mid\n",
      "This song has the desired part and only one part\n",
      "../MIDI_files/Classical_Archives_The_Greats/Bach/Bwv0529 Sonate en trio n5.mid\n",
      "This song has the desired part and only one part\n",
      "../MIDI_files/Classical_Archives_The_Greats/Bach/Bwv0536 Prelude and Fugue.mid\n",
      "This song has the desired part and only one part\n",
      "../MIDI_files/Classical_Archives_The_Greats/Bach/Bwv0561 Fantasie and Fuga.mid\n",
      "This song has the desired part and only one part\n",
      "../MIDI_files/Classical_Archives_The_Greats/Bach/Bwv0558 Short Prelude and Fugue n6 (Spurious).mid\n",
      "This song has the desired part and only one part\n",
      "../MIDI_files/Classical_Archives_The_Greats/Bach/Bwv1005 Violin Sonata n3 1mov Adagio.mid\n",
      "../MIDI_files/Classical_Archives_The_Greats/Bach/Bwv0806 English Suite n1 06mov .mid\n",
      "../MIDI_files/Classical_Archives_The_Greats/Bach/Bwv0998 Prelude Fugue Allegro for Lute 1mov.mid\n",
      "../MIDI_files/Classical_Archives_The_Greats/Bach/Bwv0560 Short Prelude and Fugue n8 (Spurious).mid\n",
      "This song has the desired part and only one part\n",
      "../MIDI_files/Classical_Archives_The_Greats/Bach/Bwv0563 Fantasie con imitation.mid\n",
      "This song has the desired part and only one part\n",
      "../MIDI_files/Classical_Archives_The_Greats/Bach/Bwv0572 Fantasia.mid\n",
      "This song has the desired part and only one part\n",
      "../MIDI_files/Classical_Archives_The_Greats/Bach/Bwv0547 Prelude and Fugue.mid\n",
      "This song has the desired part and only one part\n",
      "../MIDI_files/Classical_Archives_The_Greats/Bach/Bwv0996 Suite for Lute.mid\n",
      "../MIDI_files/Classical_Archives_The_Greats/Bach/Bwv0811 English Suite n6 3mov.mid\n",
      "../MIDI_files/Classical_Archives_The_Greats/Bach/Bwv0997 Partita for Lute 5mov.mid\n",
      "../MIDI_files/Classical_Archives_The_Greats/Bach/Bwv1005 Violin Sonata n3 3mov Largo.mid\n",
      "../MIDI_files/Classical_Archives_The_Greats/Bach/Jesu Joy of Man Desiring.mid\n",
      "../MIDI_files/Classical_Archives_The_Greats/Bach/Bwv0590 Pastorale.mid\n",
      "This song has the desired part and only one part\n",
      "../MIDI_files/Classical_Archives_The_Greats/Bach/Bwv0806 English Suite n1 01mov .mid\n",
      "../MIDI_files/Classical_Archives_The_Greats/Bach/Bwv0935 Little Prelude n3.mid\n",
      "../MIDI_files/Classical_Archives_The_Greats/Bach/Prelude from Sonata n6.mid\n",
      "../MIDI_files/Classical_Archives_The_Greats/Bach/Bwv0806 English Suite n1 08mov .mid\n",
      "../MIDI_files/Classical_Archives_The_Greats/Bach/Bwv0552 Prelude and Fugue ''St. Anne''.mid\n",
      "This song has the desired part and only one part\n",
      "../MIDI_files/Classical_Archives_The_Greats/Bach/Bwv0566 Prelude and Fugue.mid\n",
      "This song has the desired part and only one part\n",
      "../MIDI_files/Classical_Archives_The_Greats/Bach/Bwv0542 Fantasia and Fugue.mid\n",
      "This song has the desired part and only one part\n",
      "../MIDI_files/Classical_Archives_The_Greats/Bach/Bwv1005 Violin Sonata n3 4mov Allegro.mid\n",
      "../MIDI_files/Classical_Archives_The_Greats/Bach/Bwv0938 Little Prelude n6.mid\n",
      "../MIDI_files/Classical_Archives_The_Greats/Bach/Bwv0532 Toccata and Fugue.mid\n",
      "../MIDI_files/Classical_Archives_The_Greats/Bach/Bwv0546 Prelude and Fugue.mid\n",
      "This song has the desired part and only one part\n",
      "../MIDI_files/Classical_Archives_The_Greats/Bach/Bwv0538 Toccata and Fugue ''Dorian''.mid\n",
      "This song has the desired part and only one part\n",
      "../MIDI_files/Classical_Archives_The_Greats/Bach/Bwv0582 Passacaglia and Fugue (Orchestral).mid\n",
      "../MIDI_files/Classical_Archives_The_Greats/Bach/Bwv0817 French Suite n6.mid\n",
      "../MIDI_files/Classical_Archives_The_Greats/Bach/Bwv0568 Prelude.mid\n",
      "../MIDI_files/Classical_Archives_The_Greats/Bach/Bwv0543 Prelude and Fugue.mid\n",
      "This song has the desired part and only one part\n",
      "../MIDI_files/Classical_Archives_The_Greats/Bach/Bwv1014 Harpsicord and Violin Sonata 4mov.mid\n",
      "../MIDI_files/Classical_Archives_The_Greats/Bach/Bwv0550 Prelude and Fugue.mid\n",
      "This song has the desired part and only one part\n",
      "../MIDI_files/Classical_Archives_The_Greats/Bach/Bwv0967 Sonata.mid\n",
      "../MIDI_files/Classical_Archives_The_Greats/Bach/Bwv0527 Sonate en trio n3.mid\n",
      "This song has the desired part and only one part\n",
      "../MIDI_files/Classical_Archives_The_Greats/Bach/Bwv0551 Prelude and Fugue.mid\n",
      "This song has the desired part and only one part\n",
      "../MIDI_files/Classical_Archives_The_Greats/Bach/Bwv0811 English Suite n6 8mov.mid\n",
      "../MIDI_files/Classical_Archives_The_Greats/Bach/Bwv0806 English Suite n1 10mov .mid\n",
      "../MIDI_files/Classical_Archives_The_Greats/Bach/Bwv0530 Sonate en trio n6.mid\n",
      "This song has the desired part and only one part\n",
      "../MIDI_files/Classical_Archives_The_Greats/Bach/Bwv0526 Sonate en trio n2.mid\n",
      "This song has the desired part and only one part\n",
      "../MIDI_files/Classical_Archives_The_Greats/Bach/Bwv0544 Prelude and Fugue.mid\n",
      "This song has the desired part and only one part\n",
      "../MIDI_files/Classical_Archives_The_Greats/Bach/Bwv0992 Capriccio.mid\n",
      "../MIDI_files/Classical_Archives_The_Greats/Bach/Bwv0733 Fuga Sopra Magnificat.mid\n",
      "../MIDI_files/Classical_Archives_The_Greats/Bach/Bwv0533 Prelude and Fugue.mid\n",
      "This song has the desired part and only one part\n",
      "../MIDI_files/Classical_Archives_The_Greats/Bach/Bwv0811 English Suite n6 6mov.mid\n",
      "../MIDI_files/Classical_Archives_The_Greats/Bach/Bwv0963 Sonata.mid\n",
      "../MIDI_files/Classical_Archives_The_Greats/Bach/Bwv1046 aSinfonia h.mid\n",
      "../MIDI_files/Classical_Archives_The_Greats/Bach/Bwv0557 Short Prelude and Fugue n5 (Spurious).mid\n",
      "This song has the desired part and only one part\n",
      "../MIDI_files/Classical_Archives_The_Greats/Bach/Bwv0811 English Suite n6 1mov.mid\n",
      "../MIDI_files/Classical_Archives_The_Greats/Bach/Bwv0934 Little Prelude n2.mid\n",
      "../MIDI_files/Classical_Archives_The_Greats/Bach/Bwv0541 Prelude and Fugue.mid\n",
      "This song has the desired part and only one part\n",
      "../MIDI_files/Classical_Archives_The_Greats/Bach/Bwv0570 Fantasia.mid\n",
      "../MIDI_files/Classical_Archives_The_Greats/Bach/Bwv0531 Prelude and Fugue.mid\n",
      "This song has the desired part and only one part\n",
      "../MIDI_files/Classical_Archives_The_Greats/Bach/Bwv0582 Passacaglia and Fugue.mid\n",
      "../MIDI_files/Classical_Archives_The_Greats/Bach/Bwv0936 Little Prelude n4.mid\n",
      "../MIDI_files/Classical_Archives_The_Greats/Bach/Bwv0811 English Suite n6 7mov.mid\n",
      "../MIDI_files/Classical_Archives_The_Greats/Bach/Bwv0933 Little Prelude n1.mid\n",
      "../MIDI_files/Classical_Archives_The_Greats/Bach/Bwv0539 Prelude and Fugue.mid\n",
      "This song has the desired part and only one part\n",
      "../MIDI_files/Classical_Archives_The_Greats/Bach/Bwv802 Four Inventions (Duettos) Clavier-Übung III n1.mid\n",
      "../MIDI_files/Classical_Archives_The_Greats/Bach/Bwv0906 Fantasia and Fugue.mid\n",
      "../MIDI_files/Classical_Archives_The_Greats/Bach/Bwv0559 Short Prelude and Fugue n7 (Spurious).mid\n",
      "This song has the desired part and only one part\n",
      "../MIDI_files/Classical_Archives_The_Greats/Bach/Bwv1005 Violin Sonata n3 2mov Fugue.mid\n",
      "../MIDI_files/Classical_Archives_The_Greats/Bach/Bwv0549 Prelude and Fugue.mid\n",
      "This song has the desired part and only one part\n",
      "../MIDI_files/Classical_Archives_The_Greats/Bach/Bwv0806 English Suite n1 05mov.mid\n",
      "../MIDI_files/Classical_Archives_The_Greats/Bach/Bwv1014 Harpsicord and Violin Sonata 2mov.mid\n",
      "../MIDI_files/Classical_Archives_The_Greats/Bach/Bwv0811 English Suite n6 5mov.mid\n",
      "../MIDI_files/Classical_Archives_The_Greats/Bach/Bwv1014 Harpsicord and Violin Sonata 1mov.mid\n",
      "../MIDI_files/Classical_Archives_The_Greats/Bach/AveMaria.mid\n",
      "../MIDI_files/Classical_Archives_The_Greats/Bach/Bwv0815 French Suite n4.mid\n",
      "../MIDI_files/Classical_Archives_The_Greats/Bach/Bwv0565 Toccata and Fugue In Dm A.mid\n",
      "../MIDI_files/Classical_Archives_The_Greats/Bach/Bwv0806 English Suite n1 09mov .mid\n",
      "../MIDI_files/Classical_Archives_The_Greats/Bach/Bwv0593 Vivaldi Concerto Arrangement RV522.mid\n",
      "This song has the desired part and only one part\n",
      "../MIDI_files/Classical_Archives_The_Greats/Bach/Bwv0806 English Suite n1 04mov .mid\n",
      "../MIDI_files/Classical_Archives_The_Greats/Bach/Bwv0997 Partita for Lute 2mov.mid\n",
      "../MIDI_files/Classical_Archives_The_Greats/Bach/Bwv0811 English Suite n6 4mov.mid\n",
      "../MIDI_files/Classical_Archives_The_Greats/Bach/Bwv0556 Short Prelude and Fugue n4 (Spurious).mid\n",
      "This song has the desired part and only one part\n",
      "../MIDI_files/Classical_Archives_The_Greats/Bach/Bwv0937 Little Prelude n5.mid\n",
      "../MIDI_files/Classical_Archives_The_Greats/Bach/Bwv0998 Prelude Fugue Allegro for Lute 2mov.mid\n",
      "../MIDI_files/Classical_Archives_The_Greats/Bach/Bwv0811 English Suite n6 2mov.mid\n",
      "../MIDI_files/Classical_Archives_The_Greats/Bach/Bwv0816 French Suite n5.mid\n",
      "../MIDI_files/Classical_Archives_The_Greats/Bach/Bwv0555 Short Prelude and Fugue n3 (Spurious).mid\n",
      "This song has the desired part and only one part\n",
      "../MIDI_files/Classical_Archives_The_Greats/Bach/Bwv0565 Toccata and Fugue In Dm B.mid\n",
      "This song has the desired part and only one part\n",
      "../MIDI_files/Classical_Archives_The_Greats/Bach/Bwv0525 Sonate en trio n1.mid\n",
      "This song has the desired part and only one part\n",
      "../MIDI_files/Classical_Archives_The_Greats/Bach/Bwv0554 Short Prelude and Fugue n2 (Spurious).mid\n",
      "This song has the desired part and only one part\n",
      "../MIDI_files/Classical_Archives_The_Greats/Bach/Bwv0537 Fantasia and Fugue.mid\n",
      "This song has the desired part and only one part\n",
      "../MIDI_files/Classical_Archives_The_Greats/Bach/Bwv0806 English Suite n1 03mov .mid\n",
      "../MIDI_files/Classical_Archives_The_Greats/Bach/Bwv0806 English Suite n1 07mov .mid\n"
     ]
    }
   ],
   "source": [
    "filenames=glob.glob('../MIDI_files/Classical_Archives_The_Greats/Bach/*.mid')\n",
    "\n",
    "#filename='../MIDI_files/Classical_Archives_The_Greats/Chopin/Prelude n01 op28 \\'\\'Reunion\\'\\'.mid'\n",
    "\n",
    "notes=[]\n",
    "\n",
    "#this has length num_songs and gives the number of notes in each, this will be useful for partitioning training data\n",
    "notes_per_song=[]\n",
    "\n",
    "for i in range(len(filenames)):\n",
    "    \n",
    "    file=filenames[i]\n",
    "    \n",
    "    print(file)\n",
    "    \n",
    "    midi=converter.parse(file)\n",
    "    \n",
    "    instr=instrument.Organ #this is the desired individual instrument\n",
    "    parts=instrument.partitionByInstrument(midi)\n",
    "    notes_temp=0\n",
    "    try: #some midis will read in parts as a NoneType object\n",
    "        \n",
    "        if len(parts)==1: #song has only one part\n",
    "\n",
    "            for part in parts:\n",
    "                if isinstance(part.getInstrument(),instr): #that part is of the desired instrument\n",
    "                    print(\"This song has the desired part and only one part\")\n",
    "\n",
    "                    for element in part.flat.notes:\n",
    "\n",
    "                        if isinstance(element,note.Note):\n",
    "                            notes.append(str(element.pitch))\n",
    "                            notes_temp+=1\n",
    "\n",
    "                        elif isinstance(element,chord.Chord):\n",
    "                            notes.append('.'.join(str(n) for n in element.normalOrder))\n",
    "                            notes_temp+=1\n",
    "\n",
    "                    notes_per_song.append(notes_temp)\n",
    "        \n",
    "    except:\n",
    "        pass #parts is a NoneType object\n",
    "\n",
    "                    "
   ]
  },
  {
   "cell_type": "code",
   "execution_count": 6,
   "metadata": {},
   "outputs": [
    {
     "name": "stdout",
     "output_type": "stream",
     "text": [
      "78668\n",
      "78668\n",
      "[2478, 1624, 886, 5269, 2648, 1209, 2375, 691, 865, 568, 3162, 1958, 2567, 6067, 1012, 2356, 2236, 2834, 4020, 1572, 2373, 1020, 2392, 2142, 2254, 599, 451, 3836, 298, 2574, 540, 1828, 4374, 637, 477, 3096, 2364, 639, 377]\n"
     ]
    }
   ],
   "source": [
    "print(len(notes))\n",
    "print(sum(notes_per_song))\n",
    "print(notes_per_song) #what we can actually do here is partition by song\n",
    "#training data will have roughly 75% of songs and validation data will have remaining songs\n",
    "\n",
    "num_songs=len(notes_per_song)"
   ]
  },
  {
   "cell_type": "markdown",
   "metadata": {},
   "source": [
    "# Remove songs that have less than sequence_length notes"
   ]
  },
  {
   "cell_type": "code",
   "execution_count": 7,
   "metadata": {},
   "outputs": [
    {
     "name": "stdout",
     "output_type": "stream",
     "text": [
      "[]\n"
     ]
    }
   ],
   "source": [
    "sequence_length=100\n",
    "\n",
    "\n",
    "#remove songs that have less than sequence_length notes\n",
    "remove_song_idx=[]\n",
    "for i in range(num_songs):\n",
    "    if notes_per_song[i]<sequence_length:\n",
    "        remove_song_idx.append(i)\n",
    "\n",
    "print(remove_song_idx)\n",
    "\n",
    "\n"
   ]
  },
  {
   "cell_type": "code",
   "execution_count": 8,
   "metadata": {},
   "outputs": [
    {
     "name": "stdout",
     "output_type": "stream",
     "text": [
      "0\n"
     ]
    }
   ],
   "source": [
    "remove_note_idx=[]\n",
    "num_note=0\n",
    "\n",
    "for i in range(num_songs):\n",
    "    \n",
    "    num_notes_in_song=notes_per_song[i]\n",
    "\n",
    "    \n",
    "    for j in range(num_notes_in_song):\n",
    "        \n",
    "        if i in remove_song_idx:\n",
    "            remove_note_idx.append(num_note)\n",
    "            num_note+=1\n",
    "        else:\n",
    "            num_note+=1\n",
    "            \n",
    "print(len(remove_note_idx))\n",
    "        "
   ]
  },
  {
   "cell_type": "code",
   "execution_count": 9,
   "metadata": {},
   "outputs": [],
   "source": [
    "notes_per_song=np.delete(notes_per_song,remove_song_idx)\n",
    "notes=np.delete(notes,remove_note_idx)\n",
    "num_songs=len(notes_per_song)"
   ]
  },
  {
   "cell_type": "code",
   "execution_count": 10,
   "metadata": {},
   "outputs": [
    {
     "name": "stdout",
     "output_type": "stream",
     "text": [
      "[2478 1624  886 5269 2648 1209 2375  691  865  568 3162 1958 2567 6067\n",
      " 1012 2356 2236 2834 4020 1572 2373 1020 2392 2142 2254  599  451 3836\n",
      "  298 2574  540 1828 4374  637  477 3096 2364  639  377]\n",
      "78668\n"
     ]
    }
   ],
   "source": [
    "print(notes_per_song)\n",
    "print(len(notes))"
   ]
  },
  {
   "cell_type": "markdown",
   "metadata": {},
   "source": [
    "# Create ins and outs"
   ]
  },
  {
   "cell_type": "code",
   "execution_count": 11,
   "metadata": {},
   "outputs": [
    {
     "name": "stdout",
     "output_type": "stream",
     "text": [
      "[2378, 1524, 786, 5169, 2548, 1109, 2275, 591, 765, 468, 3062, 1858, 2467, 5967, 912, 2256, 2136, 2734, 3920, 1472, 2273, 920, 2292, 2042, 2154, 499, 351, 3736, 198, 2474, 440, 1728, 4274, 537, 377, 2996, 2264, 539, 277]\n",
      "(74768, 100)\n",
      "74768\n"
     ]
    }
   ],
   "source": [
    "# Now what we have to do is create a bunch of sequences of constant length\n",
    "# we also have to map the notes to integers and then map those integers to categorical variables \n",
    "sequence_length=100\n",
    "\n",
    "#create a list of all pitchnames\n",
    "pitchnames=set(item for item in notes)\n",
    "\n",
    "n_notes=len(pitchnames)\n",
    "\n",
    "#create a dict that maps pitchnames to integers\n",
    "note_to_int={} #keys are pitchnames, values are integers\n",
    "count=-1\n",
    "for i in pitchnames:\n",
    "    count+=1\n",
    "    note_to_int[i]=count\n",
    "    \n",
    "#calculate total number of sequences\n",
    "num_sequences=0\n",
    "for i in range(num_songs):\n",
    "    num_notes_in_song=notes_per_song[i]\n",
    "    for j in range(num_notes_in_song-sequence_length):\n",
    "        num_sequences+=1\n",
    "    \n",
    "ins=np.zeros((num_sequences,sequence_length))\n",
    "outs=[]\n",
    "\n",
    "#the input is a sequence of sequence_length notes\n",
    "#the output is the next note after that sequence\n",
    "\n",
    "note_count=0\n",
    "sequences_per_song=[]\n",
    "\n",
    "for i in range(num_songs):\n",
    "    \n",
    "    num_notes_in_song=notes_per_song[i]\n",
    "    sequences_per_song.append(num_notes_in_song-sequence_length)\n",
    "\n",
    "    \n",
    "    #here we're grouping it by song, there will not be a single sequence that has part of one song and part of another\n",
    "    for j in range(num_notes_in_song-sequence_length):\n",
    "        \n",
    "        sequence_in=notes[note_count:note_count+sequence_length]\n",
    "        sequence_out=notes[note_count+sequence_length]\n",
    "        \n",
    "        ins_temp=[note_to_int[i] for i in sequence_in]\n",
    "        \n",
    "        ins[note_count,:]=ins_temp\n",
    "        outs.append(note_to_int[sequence_out])\n",
    "        \n",
    "        note_count+=1\n",
    "        \n",
    "#ins=np.reshape(ins,(num_sequences, sequence_length, 1)) #reshape to keras ready shape\n",
    "#ins = ins / float(n_notes) #scale to 0-1\n",
    "#outs=np_utils.to_categorical(outs) #transform outs to a categorical\n",
    "    \n",
    "\n",
    "print(sequences_per_song)\n",
    "print(ins.shape)\n",
    "print(len(outs))\n"
   ]
  },
  {
   "cell_type": "markdown",
   "metadata": {},
   "source": [
    "# Partition Training and Validation Data"
   ]
  },
  {
   "cell_type": "code",
   "execution_count": 12,
   "metadata": {},
   "outputs": [
    {
     "name": "stdout",
     "output_type": "stream",
     "text": [
      "Number of Training Sequences is 48284\n",
      "Number of Validation Sequences is 26484\n",
      "ins_train shape: (48284, 100, 1)\n",
      "outs_train shape: (48284, 223)\n",
      "ins_validation shape: (26484, 100, 1)\n",
      "outs_validation shape: (26484, 223)\n"
     ]
    }
   ],
   "source": [
    "# Ok now we need to define our training and validation sets\n",
    "# The real challenge for our model is going to be the fact that the validation sequences are from songs that are not included in the training set\n",
    "# If we can get the model to not overfit we'll have accomplished something pretty impressive\n",
    "\n",
    "songs_all=np.arange(len(notes_per_song))\n",
    "idx_train=np.random.choice(songs_all,size=int(len(notes_per_song)*0.75),replace=False) #index of songs used for training\n",
    "idx_validation=[] #index of songs used for validation\n",
    "for i in songs_all:\n",
    "    if i not in idx_train:\n",
    "        idx_validation.append(i)\n",
    "        \n",
    "        \n",
    "#calculate number of sequences for training and validation\n",
    "num_sequences_train=0\n",
    "for i in idx_train:\n",
    "    num_sequences_train+=sequences_per_song[i]\n",
    "num_sequences_validation=sum(sequences_per_song)-num_sequences_train\n",
    "\n",
    "print(\"Number of Training Sequences is \"+str(num_sequences_train))\n",
    "print(\"Number of Validation Sequences is \"+str(num_sequences_validation))\n",
    "        \n",
    "ins_train=np.zeros((num_sequences_train,sequence_length))\n",
    "outs_train=[]\n",
    "ins_validation=np.zeros((num_sequences_validation,sequence_length))\n",
    "outs_validation=[]\n",
    "        \n",
    "idx_sequence=-1\n",
    "idx_train_sequence=-1\n",
    "idx_validation_sequence=-1\n",
    "for i in range(num_songs):\n",
    "    \n",
    "    sequences_in_song=sequences_per_song[i]\n",
    "    \n",
    "    for j in range(sequences_in_song):\n",
    "        idx_sequence+=1\n",
    "        \n",
    "        if i in idx_train:\n",
    "            idx_train_sequence+=1\n",
    "            ins_train[idx_train_sequence,:]=ins[idx_sequence,:]\n",
    "            outs_train.append(outs[idx_sequence])\n",
    "            \n",
    "            \n",
    "        elif i in idx_validation:\n",
    "            idx_validation_sequence+=1\n",
    "            ins_validation[idx_validation_sequence,:]=ins[idx_sequence,:]\n",
    "            outs_validation.append(outs[idx_sequence])\n",
    "    \n",
    "\n",
    "ins_train=np.reshape(ins_train,(num_sequences_train,sequence_length,1)) #reshape to keras ready shape\n",
    "ins_validation=np.reshape(ins_validation,(num_sequences_validation,sequence_length,1))\n",
    "\n",
    "ins_train = ins_train / float(n_notes) #scale to 0-1\n",
    "ins_validation=ins_validation/float(n_notes)\n",
    "\n",
    "outs_train=np_utils.to_categorical(outs_train) #transform outs to a categorical\n",
    "outs_validation=np_utils.to_categorical(outs_validation)\n",
    "\n",
    "print(\"ins_train shape: \"+str(ins_train.shape))\n",
    "print(\"outs_train shape: \"+str(outs_train.shape))\n",
    "print(\"ins_validation shape: \"+str(ins_validation.shape))\n",
    "print(\"outs_validation shape: \"+str(outs_validation.shape))"
   ]
  },
  {
   "cell_type": "code",
   "execution_count": 13,
   "metadata": {},
   "outputs": [],
   "source": [
    "training_data={'ins_train':ins_train,'outs_train':outs_train,'ins_validation':ins_validation,'outs_validation':outs_validation}\n",
    "\n",
    "#fp=open(\"training_data_bach.pkl\",'wb')\n",
    "#pickle.dump(training_data,fp)\n",
    "#fp.close()"
   ]
  },
  {
   "cell_type": "code",
   "execution_count": 14,
   "metadata": {},
   "outputs": [
    {
     "name": "stdout",
     "output_type": "stream",
     "text": [
      "[0.37219731 0.53363229 0.37219731 0.15246637 0.39910314 0.37219731\n",
      " 0.77130045 0.37219731 0.77130045 0.15246637 0.0941704  0.77130045\n",
      " 0.39910314 0.37219731 0.03587444 0.79820628 0.93721973 0.74887892\n",
      " 0.93721973 0.03587444 0.93721973 0.03587444 0.95515695 0.74887892\n",
      " 0.39910314 0.0941704  0.39910314 0.0941704  0.77130045 0.95515695\n",
      " 0.77130045 0.39910314 0.0941704  0.39910314 0.77130045 0.37219731\n",
      " 0.39910314 0.77130045 0.39910314 0.77130045 0.37219731 0.53363229\n",
      " 0.77130045 0.37219731 0.53363229 0.37219731 0.77130045 0.39910314\n",
      " 0.37219731 0.77130045 0.37219731 0.77130045 0.39910314 0.0941704\n",
      " 0.77130045 0.39910314 0.77130045 0.39910314 0.0941704  0.95515695\n",
      " 0.39910314 0.0941704  0.39910314 0.0941704  0.95515695 0.74887892\n",
      " 0.0941704  0.95515695 0.0941704  0.95515695 0.37219731 0.04932735\n",
      " 0.95515695 0.74887892 0.95515695 0.74887892 0.37219731 0.03587444\n",
      " 0.74887892 0.04932735 0.74887892 0.04932735 0.03587444 0.51569507\n",
      " 0.95067265 0.37668161 0.95067265 0.37668161 0.80269058 0.95067265\n",
      " 0.37668161 0.80269058 0.37668161 0.95067265 0.51569507 0.03587444\n",
      " 0.04932735 0.74887892 0.03587444 0.51569507]\n"
     ]
    }
   ],
   "source": [
    "print(ins_train[0,:,0])"
   ]
  },
  {
   "cell_type": "code",
   "execution_count": null,
   "metadata": {},
   "outputs": [],
   "source": [
    "index=np.arange(sequence_length)\n",
    "plt.plot(index,ins_train[0,:,0])"
   ]
  },
  {
   "cell_type": "code",
   "execution_count": 15,
   "metadata": {},
   "outputs": [
    {
     "name": "stdout",
     "output_type": "stream",
     "text": [
      "Model: \"sequential\"\n",
      "_________________________________________________________________\n",
      "Layer (type)                 Output Shape              Param #   \n",
      "=================================================================\n",
      "lstm (LSTM)                  (None, 100, 256)          264192    \n",
      "_________________________________________________________________\n",
      "dropout (Dropout)            (None, 100, 256)          0         \n",
      "_________________________________________________________________\n",
      "lstm_1 (LSTM)                (None, 100, 512)          1574912   \n",
      "_________________________________________________________________\n",
      "dropout_1 (Dropout)          (None, 100, 512)          0         \n",
      "_________________________________________________________________\n",
      "lstm_2 (LSTM)                (None, 256)               787456    \n",
      "_________________________________________________________________\n",
      "dense (Dense)                (None, 256)               65792     \n",
      "_________________________________________________________________\n",
      "dropout_2 (Dropout)          (None, 256)               0         \n",
      "_________________________________________________________________\n",
      "dense_1 (Dense)              (None, 223)               57311     \n",
      "_________________________________________________________________\n",
      "activation (Activation)      (None, 223)               0         \n",
      "=================================================================\n",
      "Total params: 2,749,663\n",
      "Trainable params: 2,749,663\n",
      "Non-trainable params: 0\n",
      "_________________________________________________________________\n",
      "None\n"
     ]
    }
   ],
   "source": [
    "model = Sequential()\n",
    "model.add(LSTM(256,\n",
    "               input_shape=(sequence_length, 1),\n",
    "               return_sequences=True))\n",
    "model.add(Dropout(0.3))\n",
    "model.add(LSTM(512, return_sequences=True))\n",
    "model.add(Dropout(0.3))\n",
    "model.add(LSTM(256))\n",
    "model.add(Dense(256))\n",
    "model.add(Dropout(0.3))\n",
    "model.add(Dense(outs_train.shape[1]))\n",
    "model.add(Activation('softmax'))\n",
    "model.compile(loss='categorical_crossentropy', optimizer='rmsprop',metrics=['categorical_accuracy'])\n",
    "print(model.summary())"
   ]
  },
  {
   "cell_type": "code",
   "execution_count": 16,
   "metadata": {},
   "outputs": [],
   "source": [
    "# Callbacks\n",
    "early_stopping_cb = keras.callbacks.EarlyStopping(patience=10,\n",
    "                                                  restore_best_weights=True,\n",
    "                                                  min_delta=0.01)"
   ]
  },
  {
   "cell_type": "code",
   "execution_count": null,
   "metadata": {},
   "outputs": [
    {
     "name": "stdout",
     "output_type": "stream",
     "text": [
      "Train on 48284 samples, validate on 26484 samples\n",
      "Epoch 1/10\n",
      "48284/48284 [==============================] - 1135s 24ms/sample - loss: 3.9176 - categorical_accuracy: 0.0618 - val_loss: 3.8301 - val_categorical_accuracy: 0.0700\n",
      "Epoch 2/10\n",
      "48284/48284 [==============================] - 1176s 24ms/sample - loss: 3.8734 - categorical_accuracy: 0.0681 - val_loss: 3.8290 - val_categorical_accuracy: 0.0700\n",
      "Epoch 3/10\n",
      "48284/48284 [==============================] - 1769s 37ms/sample - loss: 3.8725 - categorical_accuracy: 0.0655 - val_loss: 3.8233 - val_categorical_accuracy: 0.0700\n",
      "Epoch 4/10\n",
      "48284/48284 [==============================] - 1198s 25ms/sample - loss: 3.8718 - categorical_accuracy: 0.0652 - val_loss: 3.8215 - val_categorical_accuracy: 0.0700\n",
      "Epoch 5/10\n",
      "21056/48284 [============>.................] - ETA: 9:06 - loss: 3.8743 - categorical_accuracy: 0.0655"
     ]
    }
   ],
   "source": [
    "history=model.fit(ins_train, \n",
    "                  outs_train,\n",
    "                  validation_data=(ins_validation, outs_validation),\n",
    "                  epochs=10, \n",
    "                  batch_size=64,\n",
    "                  callbacks=[early_stopping_cb])"
   ]
  },
  {
   "cell_type": "code",
   "execution_count": null,
   "metadata": {},
   "outputs": [],
   "source": [
    "epochs=np.arange(len(history.history['loss']))\n",
    "\n",
    "plt.plot(epochs,history.history['categorical_accuracy'],label='Train')\n",
    "plt.plot(epochs,history.history['val_categorical_accuracy'],label='Validation')\n",
    "plt.xlabel('Epochs')\n",
    "plt.ylabel('Categorical Accuracy')\n",
    "plt.legend(loc='best')\n",
    "plt.show()"
   ]
  },
  {
   "cell_type": "code",
   "execution_count": null,
   "metadata": {},
   "outputs": [],
   "source": [
    "plt.plot(epochs,history.history['loss'],label='Train')\n",
    "plt.plot(epochs,history.history['val_loss'],label='Validation')\n",
    "plt.xlabel('Epochs')\n",
    "plt.ylabel('Categorical Crossentropy')\n",
    "plt.legend(loc='best')\n",
    "plt.show()"
   ]
  }
 ],
 "metadata": {
  "kernelspec": {
   "display_name": "Python 3",
   "language": "python",
   "name": "python3"
  },
  "language_info": {
   "codemirror_mode": {
    "name": "ipython",
    "version": 3
   },
   "file_extension": ".py",
   "mimetype": "text/x-python",
   "name": "python",
   "nbconvert_exporter": "python",
   "pygments_lexer": "ipython3",
   "version": "3.7.5"
  }
 },
 "nbformat": 4,
 "nbformat_minor": 4
}
