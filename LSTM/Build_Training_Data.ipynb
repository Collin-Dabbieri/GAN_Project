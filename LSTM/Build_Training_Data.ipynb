{
 "cells": [
  {
   "cell_type": "code",
   "execution_count": 1,
   "metadata": {},
   "outputs": [
    {
     "name": "stderr",
     "output_type": "stream",
     "text": [
      "Using TensorFlow backend.\n"
     ]
    }
   ],
   "source": [
    "import numpy as np\n",
    "from matplotlib import pyplot as plt\n",
    "import tensorflow as tf\n",
    "import keras\n",
    "import pickle\n",
    "from keras.utils import np_utils\n",
    "from tensorflow.keras.layers import InputLayer, Dense, LSTM, Dropout, Activation\n",
    "from tensorflow.keras.models import Sequential\n",
    "\n",
    "from music21 import converter, instrument, note, chord, stream\n",
    "import glob\n",
    "\n",
    "from keras.utils import np_utils\n",
    "\n",
    "FONTSIZE=18\n",
    "plt.rcParams['figure.figsize']=(10,6)\n",
    "plt.rcParams['font.size']=FONTSIZE"
   ]
  },
  {
   "cell_type": "markdown",
   "metadata": {},
   "source": [
    "# Load in MIDI files and convert them to notes"
   ]
  },
  {
   "cell_type": "code",
   "execution_count": 4,
   "metadata": {
    "scrolled": true
   },
   "outputs": [
    {
     "name": "stdout",
     "output_type": "stream",
     "text": [
      "../MIDI_files/Classical_Archives_The_Greats/Chopin/Etude op10 n04 Drchew.mid\n",
      "../MIDI_files/Classical_Archives_The_Greats/Chopin/Piano Concerto n2 2mov.mid\n",
      "../MIDI_files/Classical_Archives_The_Greats/Chopin/Waltz op64 n1.mid\n",
      "../MIDI_files/Classical_Archives_The_Greats/Chopin/Piano Concerto n1 op11 1mov.mid\n",
      "../MIDI_files/Classical_Archives_The_Greats/Chopin/Nocturne op48 n2.mid\n",
      "../MIDI_files/Classical_Archives_The_Greats/Chopin/Prelude n17 op28 ''Scene On the Place of Notre Dame.mid\n",
      "../MIDI_files/Classical_Archives_The_Greats/Chopin/Nocturne op37 n2.mid\n",
      "../MIDI_files/Classical_Archives_The_Greats/Chopin/Etude op10 n08.mid\n",
      "../MIDI_files/Classical_Archives_The_Greats/Chopin/Prelude n09 op28 ''Vision''.mid\n",
      "../MIDI_files/Classical_Archives_The_Greats/Chopin/Prelude n10 op28 ''The Night Moth''.mid\n",
      "../MIDI_files/Classical_Archives_The_Greats/Chopin/Sonata op35 n1 .mid\n",
      "../MIDI_files/Classical_Archives_The_Greats/Chopin/Etude op10 n01.mid\n",
      "../MIDI_files/Classical_Archives_The_Greats/Chopin/Sonata op35 n3 .mid\n",
      "../MIDI_files/Classical_Archives_The_Greats/Chopin/Prelude n02 op28 ''Presentiment of Death''.mid\n",
      "../MIDI_files/Classical_Archives_The_Greats/Chopin/Etude op25 n11 ''Winter Wind''.mid\n",
      "../MIDI_files/Classical_Archives_The_Greats/Chopin/Prelude n19 op28.mid\n",
      "../MIDI_files/Classical_Archives_The_Greats/Chopin/Mazurka op7 n1.mid\n",
      "../MIDI_files/Classical_Archives_The_Greats/Chopin/Prelude n16 op28 ''Hades''.mid\n",
      "../MIDI_files/Classical_Archives_The_Greats/Chopin/Tarantella.mid\n",
      "../MIDI_files/Classical_Archives_The_Greats/Chopin/Etude op10 n06.mid\n",
      "../MIDI_files/Classical_Archives_The_Greats/Chopin/Nocturne op32 n2.mid\n",
      "../MIDI_files/Classical_Archives_The_Greats/Chopin/Ballad op53.mid\n",
      "../MIDI_files/Classical_Archives_The_Greats/Chopin/Nocturne op55 n2.mid\n",
      "../MIDI_files/Classical_Archives_The_Greats/Chopin/Scherzo n1 op20.mid\n",
      "../MIDI_files/Classical_Archives_The_Greats/Chopin/Sonata op35 n2 .mid\n",
      "../MIDI_files/Classical_Archives_The_Greats/Chopin/Grande Waltz op18.mid\n",
      "../MIDI_files/Classical_Archives_The_Greats/Chopin/Nocturne op48 n1.mid\n",
      "../MIDI_files/Classical_Archives_The_Greats/Chopin/Ballad op32.mid\n",
      "../MIDI_files/Classical_Archives_The_Greats/Chopin/Etude op10 n09.mid\n",
      "../MIDI_files/Classical_Archives_The_Greats/Chopin/Etude op25 n05.mid\n",
      "../MIDI_files/Classical_Archives_The_Greats/Chopin/Prelude n12 op28 ''Duel''.mid\n",
      "../MIDI_files/Classical_Archives_The_Greats/Chopin/Impromptu n3 op51.mid\n",
      "../MIDI_files/Classical_Archives_The_Greats/Chopin/Prelude n04 op28 ''Suffocation''.mid\n",
      "../MIDI_files/Classical_Archives_The_Greats/Chopin/Nocturne op09 n2.mid\n",
      "../MIDI_files/Classical_Archives_The_Greats/Chopin/Trois Nouvelles Etudes (Op.posth.).mid\n",
      "../MIDI_files/Classical_Archives_The_Greats/Chopin/Etude op25 n04.mid\n",
      "../MIDI_files/Classical_Archives_The_Greats/Chopin/Prelude n08 op28 ''Desparation''.mid\n",
      "../MIDI_files/Classical_Archives_The_Greats/Chopin/Etude op25 n07.mid\n",
      "../MIDI_files/Classical_Archives_The_Greats/Chopin/Prelude n18 op28 ''Suicide''.mid\n",
      "../MIDI_files/Classical_Archives_The_Greats/Chopin/Etude op25 n01 ''Harp Etude''.mid\n",
      "../MIDI_files/Classical_Archives_The_Greats/Chopin/Prelude n11 op28 ''Dragonfly''.mid\n",
      "../MIDI_files/Classical_Archives_The_Greats/Chopin/Prelude n22 op28 ''Impatience''.mid\n",
      "../MIDI_files/Classical_Archives_The_Greats/Chopin/Nocturne op09 n3.mid\n",
      "../MIDI_files/Classical_Archives_The_Greats/Chopin/Etude op25 n03.mid\n",
      "../MIDI_files/Classical_Archives_The_Greats/Chopin/Nocturne op33 n2.mid\n",
      "../MIDI_files/Classical_Archives_The_Greats/Chopin/Etude op25 n12 ''The Ocean''.mid\n",
      "../MIDI_files/Classical_Archives_The_Greats/Chopin/Etude op10 n10.mid\n",
      "../MIDI_files/Classical_Archives_The_Greats/Chopin/Nocturne op33 n4.mid\n",
      "../MIDI_files/Classical_Archives_The_Greats/Chopin/Etude op25 n02.mid\n",
      "../MIDI_files/Classical_Archives_The_Greats/Chopin/Etude op25 n10.mid\n",
      "../MIDI_files/Classical_Archives_The_Greats/Chopin/Prelude n23 op28 ''A Pleasure Boat''.mid\n",
      "../MIDI_files/Classical_Archives_The_Greats/Chopin/Prelude n14 op28 ''Fear''.mid\n",
      "../MIDI_files/Classical_Archives_The_Greats/Chopin/Prelude n21 op28 ''Sunday''.mid\n",
      "../MIDI_files/Classical_Archives_The_Greats/Chopin/Etude op25 n09.mid\n",
      "../MIDI_files/Classical_Archives_The_Greats/Chopin/Prelude n01 op28 ''Reunion''.mid\n",
      "../MIDI_files/Classical_Archives_The_Greats/Chopin/Scherzo op31.mid\n",
      "../MIDI_files/Classical_Archives_The_Greats/Chopin/Nocturne op32 n1.mid\n",
      "../MIDI_files/Classical_Archives_The_Greats/Chopin/Prelude n05 op28 ''Uncertainty''.mid\n",
      "../MIDI_files/Classical_Archives_The_Greats/Chopin/Waltz op70 n2.mid\n",
      "../MIDI_files/Classical_Archives_The_Greats/Chopin/Nocturne op37 01.mid\n",
      "../MIDI_files/Classical_Archives_The_Greats/Chopin/Prelude n07 op28 ''The Polish Dance''.mid\n",
      "../MIDI_files/Classical_Archives_The_Greats/Chopin/Etude op25 n08.mid\n",
      "../MIDI_files/Classical_Archives_The_Greats/Chopin/Etude op10 n03.mid\n",
      "../MIDI_files/Classical_Archives_The_Greats/Chopin/Mazurka op7 n2.mid\n",
      "../MIDI_files/Classical_Archives_The_Greats/Chopin/Prelude n13 op28 ''Loss''.mid\n",
      "../MIDI_files/Classical_Archives_The_Greats/Chopin/Piano Concerto n2 3mov.mid\n",
      "../MIDI_files/Classical_Archives_The_Greats/Chopin/Prelude n15 op28 ''Raindrop''.mid\n",
      "../MIDI_files/Classical_Archives_The_Greats/Chopin/Nocturne op15 n2.mid\n",
      "../MIDI_files/Classical_Archives_The_Greats/Chopin/2 Polonaises op26 n1.mid\n",
      "../MIDI_files/Classical_Archives_The_Greats/Chopin/Piano Concerto n1 op11 3mov.mid\n",
      "../MIDI_files/Classical_Archives_The_Greats/Chopin/Nocturne op55 n1.mid\n",
      "../MIDI_files/Classical_Archives_The_Greats/Chopin/Mazurka op67 n3 Drchew.mid\n",
      "../MIDI_files/Classical_Archives_The_Greats/Chopin/Fantasie Impromptu op66.mid\n",
      "../MIDI_files/Classical_Archives_The_Greats/Chopin/Prelude n20 op28 ''Funeral March''.mid\n",
      "../MIDI_files/Classical_Archives_The_Greats/Chopin/Sonata op35 n4 .mid\n",
      "../MIDI_files/Classical_Archives_The_Greats/Chopin/Prelude n03 op28 ''Thou Art So Like A Flower''.mid\n",
      "../MIDI_files/Classical_Archives_The_Greats/Chopin/Etude op10 n12 ''Revolutionary''.mid\n",
      "../MIDI_files/Classical_Archives_The_Greats/Chopin/Etude op10 n05 ''Black Key''.mid\n",
      "../MIDI_files/Classical_Archives_The_Greats/Chopin/Piano Concerto n1 op11 2mov.mid\n",
      "../MIDI_files/Classical_Archives_The_Greats/Chopin/Etude op10 n07.mid\n",
      "../MIDI_files/Classical_Archives_The_Greats/Chopin/Waltz in Ab (Op.posth., Brown21).mid\n",
      "../MIDI_files/Classical_Archives_The_Greats/Chopin/Nocturne op15 n3.mid\n",
      "../MIDI_files/Classical_Archives_The_Greats/Chopin/Etude op25 n06.mid\n",
      "../MIDI_files/Classical_Archives_The_Greats/Chopin/Piano Concerto n2 1mov.mid\n",
      "../MIDI_files/Classical_Archives_The_Greats/Chopin/Etude op10 n11.mid\n",
      "../MIDI_files/Classical_Archives_The_Greats/Chopin/Prelude n06 op28 ''Tolling Bells''.mid\n",
      "../MIDI_files/Classical_Archives_The_Greats/Chopin/Nocturne op27 n1.mid\n",
      "../MIDI_files/Classical_Archives_The_Greats/Chopin/Mazurka op30 n2 Drchew.mid\n",
      "../MIDI_files/Classical_Archives_The_Greats/Chopin/Nocturne op72 n1.mid\n",
      "../MIDI_files/Classical_Archives_The_Greats/Chopin/Mazurka op33 n2 Drchew.mid\n",
      "../MIDI_files/Classical_Archives_The_Greats/Chopin/Nocturne op62 n2.mid\n",
      "../MIDI_files/Classical_Archives_The_Greats/Chopin/Prelude n24 op28 ''The Storm''.mid\n",
      "../MIDI_files/Classical_Archives_The_Greats/Chopin/Nocturne op27 n2.mid\n",
      "../MIDI_files/Classical_Archives_The_Greats/Chopin/Mazurka op68 n2 Drchew.mid\n",
      "../MIDI_files/Classical_Archives_The_Greats/Chopin/Etude op10 n02.mid\n"
     ]
    }
   ],
   "source": [
    "filenames=glob.glob('../MIDI_files/Classical_Archives_The_Greats/Chopin/*.mid')\n",
    "\n",
    "filename='../MIDI_files/Classical_Archives_The_Greats/Chopin/Prelude n01 op28 \\'\\'Reunion\\'\\'.mid'\n",
    "\n",
    "notes=[]\n",
    "\n",
    "#this has length num_songs and gives the number of notes in each, this will be useful for partitioning training data\n",
    "notes_per_song=[]\n",
    "\n",
    "for i in range(len(filenames)):\n",
    "    \n",
    "    file=filenames[i]\n",
    "    \n",
    "    print(file)\n",
    "    \n",
    "    midi=converter.parse(file)\n",
    "    \n",
    "    parts = instrument.partitionByInstrument(midi)\n",
    "\n",
    "    if parts: # file has instrument parts\n",
    "        notes_to_parse = parts.parts[0].recurse()\n",
    "        \n",
    "    else: # file has notes in a flat structure\n",
    "        notes_to_parse = midi.flat.notes \n",
    "    \n",
    "    notes_temp=0\n",
    "    for element in notes_to_parse:\n",
    "        \n",
    "        if isinstance(element, note.Note):\n",
    "            notes.append(str(element.pitch))\n",
    "            notes_temp+=1\n",
    "            \n",
    "        elif isinstance(element, chord.Chord):\n",
    "            notes.append('.'.join(str(n) for n in element.normalOrder))\n",
    "            notes_temp+=1\n",
    "            \n",
    "    notes_per_song.append(notes_temp)\n",
    "\n"
   ]
  },
  {
   "cell_type": "code",
   "execution_count": 5,
   "metadata": {},
   "outputs": [
    {
     "name": "stdout",
     "output_type": "stream",
     "text": [
      "134557\n",
      "134557\n",
      "[1619, 2109, 1092, 7005, 942, 1079, 890, 1817, 282, 252, 3354, 1276, 1546, 197, 2785, 1227, 914, 1021, 2324, 848, 889, 3319, 691, 3475, 2456, 2750, 806, 3580, 1058, 1636, 789, 1919, 256, 471, 2677, 866, 1550, 153, 458, 2389, 271, 372, 1007, 1676, 1410, 2628, 1264, 1510, 1203, 968, 505, 434, 499, 789, 306, 4601, 583, 438, 949, 702, 86, 493, 1353, 803, 695, 4285, 1074, 727, 2661, 4788, 758, 471, 3000, 120, 1756, 628, 1691, 1263, 2561, 954, 1477, 681, 1532, 3649, 1323, 345, 1327, 588, 334, 1263, 740, 1247, 1555, 574, 873]\n"
     ]
    }
   ],
   "source": [
    "print(len(notes))\n",
    "print(sum(notes_per_song))\n",
    "print(notes_per_song) #what we can actually do here is partition by song\n",
    "#training data will have roughly 75% of songs and validation data will have remaining songs\n",
    "\n",
    "num_songs=len(notes_per_song)"
   ]
  },
  {
   "cell_type": "markdown",
   "metadata": {},
   "source": [
    "# Remove songs that have less than sequence_length notes"
   ]
  },
  {
   "cell_type": "code",
   "execution_count": 6,
   "metadata": {},
   "outputs": [
    {
     "name": "stdout",
     "output_type": "stream",
     "text": [
      "[60]\n"
     ]
    }
   ],
   "source": [
    "sequence_length=100\n",
    "\n",
    "\n",
    "#remove songs that have less than sequence_length notes\n",
    "remove_song_idx=[]\n",
    "for i in range(num_songs):\n",
    "    if notes_per_song[i]<sequence_length:\n",
    "        remove_song_idx.append(i)\n",
    "\n",
    "print(remove_song_idx)\n",
    "\n",
    "\n"
   ]
  },
  {
   "cell_type": "code",
   "execution_count": 7,
   "metadata": {},
   "outputs": [
    {
     "name": "stdout",
     "output_type": "stream",
     "text": [
      "86\n"
     ]
    }
   ],
   "source": [
    "remove_note_idx=[]\n",
    "num_note=0\n",
    "\n",
    "for i in range(num_songs):\n",
    "    \n",
    "    num_notes_in_song=notes_per_song[i]\n",
    "\n",
    "    \n",
    "    for j in range(num_notes_in_song):\n",
    "        \n",
    "        if i in remove_song_idx:\n",
    "            remove_note_idx.append(num_note)\n",
    "            num_note+=1\n",
    "        else:\n",
    "            num_note+=1\n",
    "            \n",
    "print(len(remove_note_idx))\n",
    "        "
   ]
  },
  {
   "cell_type": "code",
   "execution_count": 8,
   "metadata": {},
   "outputs": [],
   "source": [
    "notes_per_song=np.delete(notes_per_song,remove_song_idx)\n",
    "notes=np.delete(notes,remove_note_idx)\n",
    "num_songs=len(notes_per_song)"
   ]
  },
  {
   "cell_type": "code",
   "execution_count": 9,
   "metadata": {},
   "outputs": [
    {
     "name": "stdout",
     "output_type": "stream",
     "text": [
      "[1619 2109 1092 7005  942 1079  890 1817  282  252 3354 1276 1546  197\n",
      " 2785 1227  914 1021 2324  848  889 3319  691 3475 2456 2750  806 3580\n",
      " 1058 1636  789 1919  256  471 2677  866 1550  153  458 2389  271  372\n",
      " 1007 1676 1410 2628 1264 1510 1203  968  505  434  499  789  306 4601\n",
      "  583  438  949  702  493 1353  803  695 4285 1074  727 2661 4788  758\n",
      "  471 3000  120 1756  628 1691 1263 2561  954 1477  681 1532 3649 1323\n",
      "  345 1327  588  334 1263  740 1247 1555  574  873]\n",
      "134471\n"
     ]
    }
   ],
   "source": [
    "print(notes_per_song)\n",
    "print(len(notes))"
   ]
  },
  {
   "cell_type": "markdown",
   "metadata": {},
   "source": [
    "# Create ins and outs"
   ]
  },
  {
   "cell_type": "code",
   "execution_count": 10,
   "metadata": {},
   "outputs": [
    {
     "name": "stdout",
     "output_type": "stream",
     "text": [
      "[1519, 2009, 992, 6905, 842, 979, 790, 1717, 182, 152, 3254, 1176, 1446, 97, 2685, 1127, 814, 921, 2224, 748, 789, 3219, 591, 3375, 2356, 2650, 706, 3480, 958, 1536, 689, 1819, 156, 371, 2577, 766, 1450, 53, 358, 2289, 171, 272, 907, 1576, 1310, 2528, 1164, 1410, 1103, 868, 405, 334, 399, 689, 206, 4501, 483, 338, 849, 602, 393, 1253, 703, 595, 4185, 974, 627, 2561, 4688, 658, 371, 2900, 20, 1656, 528, 1591, 1163, 2461, 854, 1377, 581, 1432, 3549, 1223, 245, 1227, 488, 234, 1163, 640, 1147, 1455, 474, 773]\n",
      "(125071, 100)\n",
      "125071\n"
     ]
    }
   ],
   "source": [
    "# Now what we have to do is create a bunch of sequences of constant length\n",
    "# we also have to map the notes to integers and then map those integers to categorical variables \n",
    "sequence_length=100\n",
    "\n",
    "#create a list of all pitchnames\n",
    "pitchnames=set(item for item in notes)\n",
    "\n",
    "n_notes=len(pitchnames)\n",
    "\n",
    "#create a dict that maps pitchnames to integers\n",
    "note_to_int={} #keys are pitchnames, values are integers\n",
    "count=-1\n",
    "for i in pitchnames:\n",
    "    count+=1\n",
    "    note_to_int[i]=count\n",
    "    \n",
    "#calculate total number of sequences\n",
    "num_sequences=0\n",
    "for i in range(num_songs):\n",
    "    num_notes_in_song=notes_per_song[i]\n",
    "    for j in range(num_notes_in_song-sequence_length):\n",
    "        num_sequences+=1\n",
    "    \n",
    "ins=np.zeros((num_sequences,sequence_length))\n",
    "outs=[]\n",
    "\n",
    "#the input is a sequence of sequence_length notes\n",
    "#the output is the next note after that sequence\n",
    "\n",
    "note_count=0\n",
    "sequences_per_song=[]\n",
    "\n",
    "for i in range(num_songs):\n",
    "    \n",
    "    num_notes_in_song=notes_per_song[i]\n",
    "    sequences_per_song.append(num_notes_in_song-sequence_length)\n",
    "\n",
    "    \n",
    "    #here we're grouping it by song, there will not be a single sequence that has part of one song and part of another\n",
    "    for j in range(num_notes_in_song-sequence_length):\n",
    "        \n",
    "        sequence_in=notes[note_count:note_count+sequence_length]\n",
    "        sequence_out=notes[note_count+sequence_length]\n",
    "        \n",
    "        ins_temp=[note_to_int[i] for i in sequence_in]\n",
    "        \n",
    "        ins[note_count,:]=ins_temp\n",
    "        outs.append(note_to_int[sequence_out])\n",
    "        \n",
    "        note_count+=1\n",
    "        \n",
    "#ins=np.reshape(ins,(num_sequences, sequence_length, 1)) #reshape to keras ready shape\n",
    "#ins = ins / float(n_notes) #scale to 0-1\n",
    "#outs=np_utils.to_categorical(outs) #transform outs to a categorical\n",
    "    \n",
    "\n",
    "print(sequences_per_song)\n",
    "print(ins.shape)\n",
    "print(len(outs))\n"
   ]
  },
  {
   "cell_type": "markdown",
   "metadata": {},
   "source": [
    "# Partition Training and Validation Data"
   ]
  },
  {
   "cell_type": "code",
   "execution_count": 11,
   "metadata": {},
   "outputs": [
    {
     "name": "stdout",
     "output_type": "stream",
     "text": [
      "Number of Training Sequences is 100049\n",
      "Number of Validation Sequences is 25022\n",
      "ins_train shape: (100049, 100, 1)\n",
      "outs_train shape: (100049, 467)\n",
      "ins_validation shape: (25022, 100, 1)\n",
      "outs_validation shape: (25022, 467)\n"
     ]
    }
   ],
   "source": [
    "# Ok now we need to define our training and validation sets\n",
    "# The real challenge for our model is going to be the fact that the validation sequences are from songs that are not included in the training set\n",
    "# If we can get the model to not overfit we'll have accomplished something pretty impressive\n",
    "\n",
    "songs_all=np.arange(len(notes_per_song))\n",
    "idx_train=np.random.choice(songs_all,size=int(len(notes_per_song)*0.75),replace=False) #index of songs used for training\n",
    "idx_validation=[] #index of songs used for validation\n",
    "for i in songs_all:\n",
    "    if i not in idx_train:\n",
    "        idx_validation.append(i)\n",
    "        \n",
    "        \n",
    "#calculate number of sequences for training and validation\n",
    "num_sequences_train=0\n",
    "for i in idx_train:\n",
    "    num_sequences_train+=sequences_per_song[i]\n",
    "num_sequences_validation=sum(sequences_per_song)-num_sequences_train\n",
    "\n",
    "print(\"Number of Training Sequences is \"+str(num_sequences_train))\n",
    "print(\"Number of Validation Sequences is \"+str(num_sequences_validation))\n",
    "        \n",
    "ins_train=np.zeros((num_sequences_train,sequence_length))\n",
    "outs_train=[]\n",
    "ins_validation=np.zeros((num_sequences_validation,sequence_length))\n",
    "outs_validation=[]\n",
    "        \n",
    "idx_sequence=-1\n",
    "idx_train_sequence=-1\n",
    "idx_validation_sequence=-1\n",
    "for i in range(num_songs):\n",
    "    \n",
    "    sequences_in_song=sequences_per_song[i]\n",
    "    \n",
    "    for j in range(sequences_in_song):\n",
    "        idx_sequence+=1\n",
    "        \n",
    "        if i in idx_train:\n",
    "            idx_train_sequence+=1\n",
    "            ins_train[idx_train_sequence,:]=ins[idx_sequence,:]\n",
    "            outs_train.append(outs[idx_sequence])\n",
    "            \n",
    "            \n",
    "        elif i in idx_validation:\n",
    "            idx_validation_sequence+=1\n",
    "            ins_validation[idx_validation_sequence,:]=ins[idx_sequence,:]\n",
    "            outs_validation.append(outs[idx_sequence])\n",
    "    \n",
    "\n",
    "ins_train=np.reshape(ins_train,(num_sequences_train,sequence_length,1)) #reshape to keras ready shape\n",
    "ins_validation=np.reshape(ins_validation,(num_sequences_validation,sequence_length,1))\n",
    "\n",
    "ins_train = ins_train / float(n_notes) #scale to 0-1\n",
    "ins_validation=ins_validation/float(n_notes)\n",
    "\n",
    "outs_train=np_utils.to_categorical(outs_train) #transform outs to a categorical\n",
    "outs_validation=np_utils.to_categorical(outs_validation)\n",
    "\n",
    "print(\"ins_train shape: \"+str(ins_train.shape))\n",
    "print(\"outs_train shape: \"+str(outs_train.shape))\n",
    "print(\"ins_validation shape: \"+str(ins_validation.shape))\n",
    "print(\"outs_validation shape: \"+str(outs_validation.shape))"
   ]
  },
  {
   "cell_type": "code",
   "execution_count": 12,
   "metadata": {},
   "outputs": [],
   "source": [
    "training_data={'ins_train':ins_train,'outs_train':outs_train,'ins_validation':ins_validation,'outs_validation':outs_validation}\n",
    "\n",
    "fp=open(\"training_data.pkl\",'wb')\n",
    "pickle.dump(training_data,fp)\n",
    "fp.close()"
   ]
  },
  {
   "cell_type": "code",
   "execution_count": null,
   "metadata": {},
   "outputs": [],
   "source": []
  }
 ],
 "metadata": {
  "kernelspec": {
   "display_name": "Python 3",
   "language": "python",
   "name": "python3"
  },
  "language_info": {
   "codemirror_mode": {
    "name": "ipython",
    "version": 3
   },
   "file_extension": ".py",
   "mimetype": "text/x-python",
   "name": "python",
   "nbconvert_exporter": "python",
   "pygments_lexer": "ipython3",
   "version": "3.7.3"
  }
 },
 "nbformat": 4,
 "nbformat_minor": 4
}
